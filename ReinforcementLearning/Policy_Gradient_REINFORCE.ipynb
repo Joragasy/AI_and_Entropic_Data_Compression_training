{
 "cells": [
  {
   "cell_type": "code",
   "execution_count": 1,
   "metadata": {},
   "outputs": [
    {
     "name": "stdout",
     "output_type": "stream",
     "text": [
      "EP: 9999 rewards: [1.0, 1.0, 1.0, 1.0, 1.0, 1.0, 1.0, 1.0, 1.0, 1.0, 1.0, 1.0, 1.0, 1.0, 1.0, 1.0, 1.0, 1.0, 1.0, 1.0, 1.0, 1.0, 1.0, 1.0, 1.0, 1.0, 1.0, 1.0, 1.0, 1.0, 1.0, 1.0, 1.0, 1.0, 1.0, 1.0, 1.0, 1.0, 1.0, 1.0, 1.0, 1.0, 1.0, 1.0, 1.0, 1.0, 1.0, 1.0, 1.0, 1.0, 1.0, 1.0, 1.0, 1.0, 1.0, 1.0, 1.0, 1.0, 1.0, 1.0, 1.0, 1.0, 1.0, 1.0, 1.0, 1.0, 1.0, 1.0, 1.0, 1.0, 1.0, 1.0, 1.0, 1.0, 1.0, 1.0, 1.0, 1.0, 1.0, 1.0, 1.0, 1.0, 1.0, 1.0, 1.0, 1.0, 1.0, 1.0, 1.0, 1.0, 1.0, 1.0, 1.0, 1.0, 1.0, 1.0, 1.0, 1.0, 1.0, 1.0, 1.0, 1.0, 1.0, 1.0, 1.0, 1.0, 1.0, 1.0, 1.0, 1.0, 1.0, 1.0, 1.0, 1.0, 1.0, 1.0, 1.0, 1.0, 1.0, 1.0, 1.0, 1.0, 1.0, 1.0, 1.0, 1.0, 1.0, 1.0, 1.0, 1.0, 1.0, 1.0, 1.0, 1.0, 1.0, 1.0, 1.0, 1.0, 1.0, 1.0, 1.0, 1.0, 1.0, 1.0, 1.0, 1.0, 1.0, 1.0, 1.0, 1.0, 1.0, 1.0, 1.0, 1.0, 1.0, 1.0, 1.0, 1.0, 1.0, 1.0, 1.0, 1.0, 1.0, 1.0, 1.0, 1.0, 1.0, 1.0, 1.0, 1.0, 1.0, 1.0, 1.0, 1.0, 1.0, 1.0, 1.0, 1.0, 1.0, 1.0, 1.0, 1.0, 1.0, 1.0, 1.0, 1.0, 1.0, 1.0, 1.0, 1.0, 1.0, 1.0, 1.0, 1.0, 1.0, 1.0, 1.0, 1.0, 1.0, 1.0]         \r"
     ]
    },
    {
     "data": {
      "text/plain": [
       "<Figure size 640x480 with 1 Axes>"
      ]
     },
     "metadata": {},
     "output_type": "display_data"
    }
   ],
   "source": [
    "import gym\n",
    "import numpy as np\n",
    "import matplotlib.pyplot as plt\n",
    "import copy \n",
    "\n",
    "#Hyperparameters\n",
    "NUM_EPISODES = 10000\n",
    "LEARNING_RATE = 0.000025\n",
    "GAMMA = 0.99\n",
    "\n",
    "# Create gym and seed numpy\n",
    "env = gym.make('CartPole-v0')\n",
    "nA = env.action_space.n\n",
    "np.random.seed(1)\n",
    "\n",
    "# Init weight\n",
    "w = np.random.rand(4, 2)\n",
    "\n",
    "# Keep stats for final print of graph\n",
    "episode_rewards = []\n",
    "\n",
    "# Our policy that maps state to action parameterized by w\n",
    "def policy(state,w):\n",
    "\tz = state.dot(w)\n",
    "\texp = np.exp(z)\n",
    "\treturn exp/np.sum(exp)\n",
    "\n",
    "# Vectorized softmax Jacobian\n",
    "def softmax_grad(softmax):\n",
    "    s = softmax.reshape(-1,1)\n",
    "    return np.diagflat(s) - np.dot(s, s.T)\n",
    "\n",
    "# Main loop \n",
    "# Make sure you update your weights AFTER each episode\n",
    "for e in range(NUM_EPISODES):\n",
    "\n",
    "\tstate = env.reset()[None,:]\n",
    "\n",
    "\tgrads = []\t\n",
    "\trewards = []\n",
    "\n",
    "\t# Keep track of game score to print\n",
    "\tscore = 0\n",
    "\n",
    "\twhile True:\n",
    "\n",
    "\t\t# Uncomment to see your model train in real time (slower)\n",
    "\t\t#env.render()\n",
    "\n",
    "\t\t# Sample from policy and take action in environment\n",
    "\t\tprobs = policy(state,w)\n",
    "\t\taction = np.random.choice(nA,p=probs[0])\n",
    "\t\tnext_state,reward,done,_ = env.step(action)\n",
    "\t\tnext_state = next_state[None,:]\n",
    "\n",
    "\t\t# Compute gradient and save with reward in memory for our weight updates\n",
    "\t\tdsoftmax = softmax_grad(probs)[action,:]\n",
    "\t\tdlog = dsoftmax / probs[0,action]\n",
    "\t\tgrad = state.T.dot(dlog[None,:])\n",
    "\n",
    "\t\tgrads.append(grad)\n",
    "\t\trewards.append(reward)\t\t\n",
    "\n",
    "\t\tscore+=reward\n",
    "\n",
    "\t\t# Dont forget to update your old state to the new state\n",
    "\t\tstate = next_state\n",
    "\n",
    "\t\tif done:\n",
    "\t\t\tbreak\n",
    "\n",
    "\t# Weight update\n",
    "\tfor i in range(len(grads)):\n",
    "\t\t# Loop through everything that happend in the episode and update towards the log policy gradient times **FUTURE** reward\n",
    "\t\tw += LEARNING_RATE * grads[i] * sum([ r * (GAMMA ** r) for t,r in enumerate(rewards[i:])])\n",
    "\t\n",
    "\t# Append for logging and print\n",
    "\tepisode_rewards.append(score) \n",
    "\tprint(\"EP: \" + str(e) + \" Score: \" + str(score) + \"         \",end=\"\\r\", flush=False)\n",
    "env.render()\n",
    "plt.plot(np.arange(NUM_EPISODES),episode_rewards)\n",
    "plt.show()\n",
    "env.close()"
   ]
  },
  {
   "cell_type": "code",
   "execution_count": 3,
   "metadata": {},
   "outputs": [
    {
     "data": {
      "text/plain": [
       "Discrete(2)"
      ]
     },
     "execution_count": 3,
     "metadata": {},
     "output_type": "execute_result"
    }
   ],
   "source": [
    "env.action_space"
   ]
  },
  {
   "cell_type": "code",
   "execution_count": 22,
   "metadata": {},
   "outputs": [
    {
     "data": {
      "text/plain": [
       "[1, 2, 4]"
      ]
     },
     "execution_count": 22,
     "metadata": {},
     "output_type": "execute_result"
    }
   ],
   "source": [
    "test = [1 , 2 , 4]\n",
    "test"
   ]
  },
  {
   "cell_type": "code",
   "execution_count": 23,
   "metadata": {},
   "outputs": [],
   "source": [
    "test.append(7)"
   ]
  },
  {
   "cell_type": "code",
   "execution_count": 24,
   "metadata": {},
   "outputs": [
    {
     "data": {
      "text/plain": [
       "[1, 2, 4, 7]"
      ]
     },
     "execution_count": 24,
     "metadata": {},
     "output_type": "execute_result"
    }
   ],
   "source": [
    "test"
   ]
  },
  {
   "cell_type": "code",
   "execution_count": 26,
   "metadata": {},
   "outputs": [
    {
     "data": {
      "text/plain": [
       "[2, 4, 7]"
      ]
     },
     "execution_count": 26,
     "metadata": {},
     "output_type": "execute_result"
    }
   ],
   "source": [
    "test[1:]"
   ]
  },
  {
   "cell_type": "code",
   "execution_count": null,
   "metadata": {},
   "outputs": [],
   "source": [
    "import gym\n",
    "import numpy as np\n",
    "import matplotlib.pyplot as plt\n",
    "import copy \n",
    "\n",
    "#Hyperparameters\n",
    "NUM_EPISODES = 10000\n",
    "LEARNING_RATE = 0.000025\n",
    "GAMMA = 0.99\n",
    "\n",
    "# Create gym and seed numpy\n",
    "env = gym.make('CartPole-v0')\n",
    "nA = env.action_space.n\n",
    "np.random.seed(1)\n",
    "\n",
    "# Init weight\n",
    "w = np.random.rand(4, 2)\n",
    "\n",
    "# Keep stats for final print of graph\n",
    "episode_rewards = []\n",
    "\n",
    "# Our policy that maps state to action parameterized by w\n",
    "def policy(state,w):\n",
    "\tz = state.dot(w)\n",
    "\texp = np.exp(z)\n",
    "\treturn exp/np.sum(exp)\n",
    "\n",
    "# Vectorized softmax Jacobian\n",
    "def softmax_grad(softmax):\n",
    "    s = softmax.reshape(-1,1)\n",
    "    return np.diagflat(s) - np.dot(s, s.T)\n",
    "\n",
    "# Main loop \n",
    "# Make sure you update your weights AFTER each episode\n",
    "for e in range(NUM_EPISODES):\n",
    "\n",
    "\tstate = env.reset()[None,:]\n",
    "\n",
    "\tgrads = []\n",
    "\trewards = []\n",
    "\n",
    "\t# Keep track of game score to print\n",
    "\tscore = 0 \n",
    "\tt=0\n",
    "    \n",
    "\twhile True:\n",
    "\n",
    "\t\t# Uncomment to see your model train in real time (slower)\n",
    "\t\t#env.render()\n",
    "\n",
    "\t\t# Sample from policy and take action in environment\n",
    "\t\tprobs = policy(state,w)\n",
    "\t\taction = np.random.choice(nA,p=probs[0])\n",
    "\t\tnext_state,reward,done,_ = env.step(action)\n",
    "\t\tnext_state = next_state[None,:]\n",
    "\n",
    "\t\t# Compute gradient and save with reward in memory for our weight updates\n",
    "\t\tdsoftmax = softmax_grad(probs)[action,:]\n",
    "\t\tdlog = dsoftmax / probs[0,action]\n",
    "\t\tgrad = state.T.dot(dlog[None,:])\n",
    "\n",
    "\t\tgrads.append(grad)\n",
    "\t\trewards.append(reward)\t\t\n",
    "\n",
    "\t\tscore+=reward\n",
    "\t\tif t == 1 :\n",
    "\t\t\tt=0\n",
    "\t\t\tfor i in range(len(grads)):\n",
    "\t\t\t\t# Loop through everything that happend in the episode and update towards the log policy gradient times **FUTURE** reward\n",
    "\t\t\t\tw += LEARNING_RATE * grads[i] * sum([ r * (GAMMA ** r) for t,r in enumerate(rewards[i:])])\n",
    "\t\t# Dont forget to update your old state to the new state\n",
    "\t\tstate = next_state\n",
    "\t\tgrads = []\n",
    "\t\trewards = []\n",
    "\t\tt+=1\n",
    "\t\tif done:\n",
    "\t\t\tbreak\n",
    "\t\n",
    "\t# Append for logging and print\n",
    "\tepisode_rewards.append(score) \n",
    "\tprint(\"EP: \" + str(e) + \" Score: \" + str(score) + \"         \",end=\"\\r\", flush=False)\n",
    "\n",
    "plt.plot(np.arange(NUM_EPISODES),episode_rewards)\n",
    "plt.show()\n",
    "env.close()"
   ]
  },
  {
   "cell_type": "code",
   "execution_count": null,
   "metadata": {},
   "outputs": [],
   "source": []
  }
 ],
 "metadata": {
  "kernelspec": {
   "display_name": "Python 3",
   "language": "python",
   "name": "python3"
  },
  "language_info": {
   "codemirror_mode": {
    "name": "ipython",
    "version": 3
   },
   "file_extension": ".py",
   "mimetype": "text/x-python",
   "name": "python",
   "nbconvert_exporter": "python",
   "pygments_lexer": "ipython3",
   "version": "3.7.4"
  }
 },
 "nbformat": 4,
 "nbformat_minor": 2
}
