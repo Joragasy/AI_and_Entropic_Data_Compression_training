{
 "cells": [
  {
   "cell_type": "code",
   "execution_count": 2,
   "id": "7d31ab7e",
   "metadata": {},
   "outputs": [
    {
     "data": {
      "text/plain": [
       "\"O'REILLY®\\nPractical\\nOperationalizing Machine Learning Models\\nf RSS\\ngaa\\neee Oe YES Bees\\nRierg Shae Ae Saha as\\neka Sees:\\njes\\n<\\nNoah Gift & Alfredo Deza\\n\\x0c\""
      ]
     },
     "execution_count": 2,
     "metadata": {},
     "output_type": "execute_result"
    }
   ],
   "source": [
    "import cv2 \n",
    "import pytesseract\n",
    "\n",
    "img = cv2.imread('./data/MLops.png')\n",
    "# Adding custom options\n",
    "custom_config = r'--oem 3 --psm 6'"
   ]
  },
  {
   "cell_type": "code",
   "execution_count": 3,
   "id": "67139d33",
   "metadata": {},
   "outputs": [
    {
     "name": "stdout",
     "output_type": "stream",
     "text": [
      "O'REILLY®\n",
      "Practical\n",
      "Operationalizing Machine Learning Models\n",
      "f RSS\n",
      "gaa\n",
      "eee Oe YES Bees\n",
      "Rierg Shae Ae Saha as\n",
      "eka Sees:\n",
      "jes\n",
      "<\n",
      "Noah Gift & Alfredo Deza\n",
      "\f",
      "\n"
     ]
    }
   ],
   "source": [
    "print(pytesseract.image_to_string(img, config=custom_config))"
   ]
  },
  {
   "cell_type": "code",
   "execution_count": 1,
   "id": "79ab8479",
   "metadata": {},
   "outputs": [],
   "source": [
    "import cv2 \n",
    "import pytesseract\n",
    "img = cv2.imread('./data/MLops.png')\n",
    "\n",
    "h, w, c = img.shape\n",
    "boxes = pytesseract.image_to_boxes(img) \n",
    "for b in boxes.splitlines():\n",
    "    b = b.split(' ')\n",
    "    img = cv2.rectangle(img, (int(b[1]), h - int(b[2])), (int(b[3]), h - int(b[4])), (0, 255, 0), 2)\n",
    "\n",
    "cv2.imshow('img', img)\n",
    "# cv2.waitKey(0)"
   ]
  },
  {
   "cell_type": "code",
   "execution_count": null,
   "id": "50f13127",
   "metadata": {},
   "outputs": [],
   "source": []
  }
 ],
 "metadata": {
  "kernelspec": {
   "display_name": "Python 3",
   "language": "python",
   "name": "python3"
  },
  "language_info": {
   "codemirror_mode": {
    "name": "ipython",
    "version": 3
   },
   "file_extension": ".py",
   "mimetype": "text/x-python",
   "name": "python",
   "nbconvert_exporter": "python",
   "pygments_lexer": "ipython3",
   "version": "3.8.8"
  }
 },
 "nbformat": 4,
 "nbformat_minor": 5
}
