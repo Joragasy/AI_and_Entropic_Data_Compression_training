{
 "cells": [
  {
   "cell_type": "code",
   "execution_count": 1,
   "metadata": {},
   "outputs": [],
   "source": [
    "f = [1,3,3,4,5]"
   ]
  },
  {
   "cell_type": "code",
   "execution_count": 7,
   "metadata": {},
   "outputs": [],
   "source": [
    "r = [i for i in f  if i < 4]"
   ]
  },
  {
   "cell_type": "code",
   "execution_count": 8,
   "metadata": {},
   "outputs": [
    {
     "data": {
      "text/plain": [
       "[1, 3, 3]"
      ]
     },
     "execution_count": 8,
     "metadata": {},
     "output_type": "execute_result"
    }
   ],
   "source": [
    "r"
   ]
  },
  {
   "cell_type": "code",
   "execution_count": 9,
   "metadata": {},
   "outputs": [],
   "source": [
    "t = 'jonathan'"
   ]
  },
  {
   "cell_type": "code",
   "execution_count": 10,
   "metadata": {},
   "outputs": [
    {
     "name": "stdout",
     "output_type": "stream",
     "text": [
      "j\n",
      "o\n",
      "n\n",
      "a\n",
      "t\n",
      "h\n",
      "a\n",
      "n\n"
     ]
    }
   ],
   "source": [
    "for i in t:\n",
    "    print(i)"
   ]
  },
  {
   "cell_type": "code",
   "execution_count": 29,
   "metadata": {},
   "outputs": [],
   "source": [
    "pseud  = 'jonathan3846'\n",
    "pseudo = pseud[::-1]\n",
    "t = 5 \n",
    "for l in pseudo :\n",
    "    try :\n",
    "        temp = int(l)\n",
    "        t = t - 1\n",
    "    except ValueError :\n",
    "        break\n",
    "    if t == 0 :\n",
    "        print(pseudo)"
   ]
  },
  {
   "cell_type": "code",
   "execution_count": 21,
   "metadata": {},
   "outputs": [
    {
     "data": {
      "text/plain": [
       "<list_reverseiterator at 0x7fbed47447d0>"
      ]
     },
     "execution_count": 21,
     "metadata": {},
     "output_type": "execute_result"
    }
   ],
   "source": [
    "pseudo"
   ]
  },
  {
   "cell_type": "code",
   "execution_count": 24,
   "metadata": {},
   "outputs": [
    {
     "data": {
      "text/plain": [
       "<reversed at 0x7fbed473ca90>"
      ]
     },
     "execution_count": 24,
     "metadata": {},
     "output_type": "execute_result"
    }
   ],
   "source": [
    "pseud  = 'jonathan384638'\n",
    "pseudo = []\n",
    "pseudo = pseud\n",
    "pseudo = reversed(pseudo)\n",
    "pseudo"
   ]
  },
  {
   "cell_type": "code",
   "execution_count": 26,
   "metadata": {},
   "outputs": [
    {
     "data": {
      "text/plain": [
       "'836483nahtanoj'"
      ]
     },
     "execution_count": 26,
     "metadata": {},
     "output_type": "execute_result"
    }
   ],
   "source": [
    "pseud[::-1]"
   ]
  },
  {
   "cell_type": "code",
   "execution_count": 30,
   "metadata": {},
   "outputs": [],
   "source": [
    "def testpseudo(p):\n",
    "    t = 5\n",
    "    for l in p :\n",
    "        try :\n",
    "            temp = int(l)\n",
    "            t = t - 1\n",
    "        except ValueError :\n",
    "            return 0\n",
    "        if t == 0 :\n",
    "            return 1\n",
    "    return 0"
   ]
  },
  {
   "cell_type": "code",
   "execution_count": 33,
   "metadata": {},
   "outputs": [
    {
     "data": {
      "text/plain": [
       "1"
      ]
     },
     "execution_count": 33,
     "metadata": {},
     "output_type": "execute_result"
    }
   ],
   "source": [
    "testpseudo('536288jo')"
   ]
  },
  {
   "cell_type": "code",
   "execution_count": 34,
   "metadata": {},
   "outputs": [
    {
     "name": "stdout",
     "output_type": "stream",
     "text": [
      "jo\n"
     ]
    },
    {
     "ename": "ValueError",
     "evalue": "invalid literal for int() with base 10: 'jo'",
     "output_type": "error",
     "traceback": [
      "\u001b[0;31m---------------------------------------------------------------------------\u001b[0m",
      "\u001b[0;31mValueError\u001b[0m                                Traceback (most recent call last)",
      "\u001b[0;32m<ipython-input-34-37609a75ad73>\u001b[0m in \u001b[0;36m<module>\u001b[0;34m\u001b[0m\n\u001b[1;32m     18\u001b[0m     \u001b[0;32mreturn\u001b[0m \u001b[0;36m0\u001b[0m\u001b[0;34m\u001b[0m\u001b[0;34m\u001b[0m\u001b[0m\n\u001b[1;32m     19\u001b[0m \u001b[0;34m\u001b[0m\u001b[0m\n\u001b[0;32m---> 20\u001b[0;31m \u001b[0mn\u001b[0m \u001b[0;34m=\u001b[0m \u001b[0mint\u001b[0m\u001b[0;34m(\u001b[0m\u001b[0minput\u001b[0m\u001b[0;34m(\u001b[0m\u001b[0;34m)\u001b[0m\u001b[0;34m)\u001b[0m\u001b[0;34m\u001b[0m\u001b[0;34m\u001b[0m\u001b[0m\n\u001b[0m\u001b[1;32m     21\u001b[0m \u001b[0mres\u001b[0m \u001b[0;34m=\u001b[0m \u001b[0;36m0\u001b[0m\u001b[0;34m\u001b[0m\u001b[0;34m\u001b[0m\u001b[0m\n\u001b[1;32m     22\u001b[0m \u001b[0mliste\u001b[0m \u001b[0;34m=\u001b[0m \u001b[0;34m[\u001b[0m\u001b[0;34m]\u001b[0m\u001b[0;34m\u001b[0m\u001b[0;34m\u001b[0m\u001b[0m\n",
      "\u001b[0;31mValueError\u001b[0m: invalid literal for int() with base 10: 'jo'"
     ]
    }
   ],
   "source": [
    "#*******\n",
    "#* Read input from STDIN\n",
    "#* Use print to output your result to STDOUT.\n",
    "#* Use sys.stderr.write() to display debugging information to STDERR\n",
    "#* ***/\n",
    "import sys\n",
    "\n",
    "def testpseudo(p):\n",
    "    t = 5\n",
    "    for l in p :\n",
    "        try :\n",
    "            temp = int(l)\n",
    "            t = t - 1\n",
    "        except ValueError :\n",
    "            return 0\n",
    "        if t == 0 :\n",
    "            return 1\n",
    "    return 0\n",
    "\n",
    "n = int(input())\n",
    "res = 0\n",
    "liste = []\n",
    "for i in range(1,n+1):\n",
    "    pseud = str(input())\n",
    "    pseudo = pseud[::-1]\n",
    "    if testpseudo(pseudo) == 1 :\n",
    "        res+=1\n",
    "print(res)"
   ]
  },
  {
   "cell_type": "code",
   "execution_count": 36,
   "metadata": {},
   "outputs": [],
   "source": [
    "def convertsec(hm):\n",
    "    h = hm.split(':')[0]\n",
    "    m = hm.split(':')[1]\n",
    "    h_sec = int(h)*3600\n",
    "    m_sec = int(m)*60\n",
    "    return h_sec + m_sec"
   ]
  },
  {
   "cell_type": "code",
   "execution_count": 37,
   "metadata": {},
   "outputs": [
    {
     "data": {
      "text/plain": [
       "3660"
      ]
     },
     "execution_count": 37,
     "metadata": {},
     "output_type": "execute_result"
    }
   ],
   "source": [
    "convertsec('01:01')"
   ]
  },
  {
   "cell_type": "code",
   "execution_count": 41,
   "metadata": {},
   "outputs": [],
   "source": [
    "def test(hm):\n",
    "    if convertsec(hm) > convertsec('20:00') :\n",
    "        return 1\n",
    "    if convertsec(hm) < convertsec('07:59') :\n",
    "        return 1\n",
    "    return 0"
   ]
  },
  {
   "cell_type": "code",
   "execution_count": 44,
   "metadata": {},
   "outputs": [
    {
     "data": {
      "text/plain": [
       "0"
      ]
     },
     "execution_count": 44,
     "metadata": {},
     "output_type": "execute_result"
    }
   ],
   "source": [
    "test('13:23')"
   ]
  },
  {
   "cell_type": "code",
   "execution_count": 46,
   "metadata": {},
   "outputs": [
    {
     "name": "stdout",
     "output_type": "stream",
     "text": [
      "\n"
     ]
    },
    {
     "ename": "ValueError",
     "evalue": "invalid literal for int() with base 10: ''",
     "output_type": "error",
     "traceback": [
      "\u001b[0;31m---------------------------------------------------------------------------\u001b[0m",
      "\u001b[0;31mValueError\u001b[0m                                Traceback (most recent call last)",
      "\u001b[0;32m<ipython-input-46-78cb0b8500d1>\u001b[0m in \u001b[0;36m<module>\u001b[0;34m\u001b[0m\n\u001b[1;32m     20\u001b[0m     \u001b[0;32mreturn\u001b[0m \u001b[0;36m0\u001b[0m\u001b[0;34m\u001b[0m\u001b[0;34m\u001b[0m\u001b[0m\n\u001b[1;32m     21\u001b[0m \u001b[0;34m\u001b[0m\u001b[0m\n\u001b[0;32m---> 22\u001b[0;31m \u001b[0mn\u001b[0m \u001b[0;34m=\u001b[0m \u001b[0mint\u001b[0m\u001b[0;34m(\u001b[0m\u001b[0minput\u001b[0m\u001b[0;34m(\u001b[0m\u001b[0;34m)\u001b[0m\u001b[0;34m)\u001b[0m\u001b[0;34m\u001b[0m\u001b[0;34m\u001b[0m\u001b[0m\n\u001b[0m\u001b[1;32m     23\u001b[0m \u001b[0mcounter\u001b[0m \u001b[0;34m=\u001b[0m \u001b[0;36m0\u001b[0m\u001b[0;34m\u001b[0m\u001b[0;34m\u001b[0m\u001b[0m\n\u001b[1;32m     24\u001b[0m \u001b[0;32mfor\u001b[0m \u001b[0mi\u001b[0m \u001b[0;32min\u001b[0m \u001b[0mrange\u001b[0m\u001b[0;34m(\u001b[0m\u001b[0;36m1\u001b[0m\u001b[0;34m,\u001b[0m\u001b[0mn\u001b[0m\u001b[0;34m+\u001b[0m\u001b[0;36m1\u001b[0m\u001b[0;34m)\u001b[0m\u001b[0;34m:\u001b[0m\u001b[0;34m\u001b[0m\u001b[0;34m\u001b[0m\u001b[0m\n",
      "\u001b[0;31mValueError\u001b[0m: invalid literal for int() with base 10: ''"
     ]
    }
   ],
   "source": [
    "\n",
    "\n",
    "#*******\n",
    "#* Read input from STDIN\n",
    "#* Use print to output your result to STDOUT.\n",
    "#* Use sys.stderr.write() to display debugging information to STDERR\n",
    "#* ***/\n",
    "import sys\n",
    "\n",
    "def convertsec(hm):\n",
    "    h = hm.split(':')[0]\n",
    "    m = hm.split(':')[1]\n",
    "    h_sec = int(h)*3600\n",
    "    m_sec = int(m)*60\n",
    "    return h_sec + m_sec\n",
    "\n",
    "def test(hm):\n",
    "    if convertsec(hm) > convertsec('20:00') :\n",
    "        return 1\n",
    "    if convertsec(hm) < convertsec('07:59') :\n",
    "        return 1\n",
    "    return 0\n",
    "\n",
    "n = int(input())\n",
    "counter = 0\n",
    "for i in range(1,n+1):\n",
    "    tweettime = str(input())\n",
    "    if test(tweettime) == 1 :\n",
    "        counter+=1\n",
    "        \n",
    "if counter > n/2 :\n",
    "    print('SUSPICIOUS')\n",
    "else :\n",
    "    print('OK')"
   ]
  },
  {
   "cell_type": "code",
   "execution_count": 47,
   "metadata": {},
   "outputs": [],
   "source": [
    "l = [(1,4),(3,1),(4,0),(2,4)]"
   ]
  },
  {
   "cell_type": "code",
   "execution_count": 54,
   "metadata": {},
   "outputs": [
    {
     "ename": "TypeError",
     "evalue": "index() takes at least 1 argument (0 given)",
     "output_type": "error",
     "traceback": [
      "\u001b[0;31m---------------------------------------------------------------------------\u001b[0m",
      "\u001b[0;31mTypeError\u001b[0m                                 Traceback (most recent call last)",
      "\u001b[0;32m<ipython-input-54-fae3597b5407>\u001b[0m in \u001b[0;36m<module>\u001b[0;34m\u001b[0m\n\u001b[1;32m      1\u001b[0m \u001b[0;32mfor\u001b[0m \u001b[0mi\u001b[0m \u001b[0;32min\u001b[0m \u001b[0ml\u001b[0m \u001b[0;34m:\u001b[0m\u001b[0;34m\u001b[0m\u001b[0;34m\u001b[0m\u001b[0m\n\u001b[0;32m----> 2\u001b[0;31m     \u001b[0mprint\u001b[0m\u001b[0;34m(\u001b[0m\u001b[0mi\u001b[0m\u001b[0;34m.\u001b[0m\u001b[0mindex\u001b[0m\u001b[0;34m(\u001b[0m\u001b[0;34m)\u001b[0m\u001b[0;34m)\u001b[0m\u001b[0;34m\u001b[0m\u001b[0;34m\u001b[0m\u001b[0m\n\u001b[0m",
      "\u001b[0;31mTypeError\u001b[0m: index() takes at least 1 argument (0 given)"
     ]
    }
   ],
   "source": [
    "for i in l :\n",
    "    print(i.index())"
   ]
  },
  {
   "cell_type": "code",
   "execution_count": 108,
   "metadata": {},
   "outputs": [
    {
     "data": {
      "text/plain": [
       "[(1, 4), (3, 1)]"
      ]
     },
     "execution_count": 108,
     "metadata": {},
     "output_type": "execute_result"
    }
   ],
   "source": [
    "l = [(1,4),(3,1),(4,0),(2,4)]\n",
    "[i for i in l if 1 in i]"
   ]
  },
  {
   "cell_type": "code",
   "execution_count": 137,
   "metadata": {},
   "outputs": [],
   "source": [
    "l = [(1,4),(3,1),(4,0),(2,4)]\n",
    "def buildGraph(l):\n",
    "    graph = []\n",
    "    indexDolan = [i for i in l if 0 in i]\n",
    "    graph.append(indexDolan[0])\n",
    "    l.remove(indexDolan[0])\n",
    "    ID = indexDolan[0][0]\n",
    "    c = 0\n",
    "    while l :\n",
    "        l , graph , c , iD= removeX(ID,l,graph)\n",
    "        print(iD)\n",
    "        if c == 0 :\n",
    "            ID = iD\n",
    "    return graph\n",
    "\n",
    "def removeX(x,l,G):\n",
    "    code = 0\n",
    "    Id = x\n",
    "    for i in l :\n",
    "        if i[1] == int(x) :\n",
    "            G.append(i)\n",
    "            l.remove(i)\n",
    "            code = 1\n",
    "            Id = i[0]\n",
    "            break\n",
    "    return l , G , code , Id"
   ]
  },
  {
   "cell_type": "code",
   "execution_count": 155,
   "metadata": {},
   "outputs": [],
   "source": [
    "l = [(1,4),(3,1),(4,0),(2,4)]\n",
    "def buildGraph(l):\n",
    "    graph = {}\n",
    "    for i in l :\n",
    "        if str(i[1]) not in graph :\n",
    "            graph[str(i[1])] = i[0]\n",
    "        else :\n",
    "            graph[str(i[1])] = [graph[str(i[1])] , i[0] ] \n",
    "    return graph"
   ]
  },
  {
   "cell_type": "code",
   "execution_count": 156,
   "metadata": {},
   "outputs": [
    {
     "data": {
      "text/plain": [
       "{'4': [1, 2], '1': 3, '0': 4}"
      ]
     },
     "execution_count": 156,
     "metadata": {},
     "output_type": "execute_result"
    }
   ],
   "source": [
    "buildGraph(l)"
   ]
  },
  {
   "cell_type": "code",
   "execution_count": 168,
   "metadata": {},
   "outputs": [],
   "source": [
    "def parcour(root,nbEdge,graph):\n",
    "    if str(graph[str(root)]) not in graph :\n",
    "        return 0\n",
    "    else :\n",
    "        return nbEdge.append(parcour(graph[str(root)],nbEdge,graph))\n",
    "        "
   ]
  },
  {
   "cell_type": "code",
   "execution_count": 171,
   "metadata": {},
   "outputs": [],
   "source": [
    "nEdge = parcour('0',[],buildGraph(l))\n",
    "nEdge"
   ]
  },
  {
   "cell_type": "code",
   "execution_count": 157,
   "metadata": {},
   "outputs": [
    {
     "data": {
      "text/plain": [
       "2"
      ]
     },
     "execution_count": 157,
     "metadata": {},
     "output_type": "execute_result"
    }
   ],
   "source": [
    "v = [1,3]\n",
    "len(v)"
   ]
  },
  {
   "cell_type": "code",
   "execution_count": null,
   "metadata": {},
   "outputs": [],
   "source": [
    "# Pb 3 solution\n",
    "from collections import defaultdict\n",
    "\n",
    "n = int(input())\n",
    "children = defaultdict(set)\n",
    "not_dolan = set()\n",
    "\n",
    "for i in range(1, n):\n",
    "    a, b = input().split(' ')\n",
    "    children[b].add(a)\n",
    "    not_dolan.add(a)\n",
    "\n",
    "level = (children.keys() - not_dolan)\n",
    "level_count = []\n",
    "for l in range(10):\n",
    "    level_count.append(str(len(level)))\n",
    "    new_level = set()\n",
    "    for agent in level:\n",
    "        new_level |= children[agent]\n",
    "    level = new_level\n",
    "\n",
    "print(\" \".join(level_count))\n"
   ]
  }
 ],
 "metadata": {
  "kernelspec": {
   "display_name": "Python 3",
   "language": "python",
   "name": "python3"
  },
  "language_info": {
   "codemirror_mode": {
    "name": "ipython",
    "version": 3
   },
   "file_extension": ".py",
   "mimetype": "text/x-python",
   "name": "python",
   "nbconvert_exporter": "python",
   "pygments_lexer": "ipython3",
   "version": "3.7.4"
  }
 },
 "nbformat": 4,
 "nbformat_minor": 2
}
