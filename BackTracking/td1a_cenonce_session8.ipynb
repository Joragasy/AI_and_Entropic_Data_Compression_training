{
 "cells": [
  {
   "cell_type": "markdown",
   "metadata": {},
   "source": [
    "# 1A.algo - Arbre et Trie\n",
    "\n",
    "Le mot [trie](http://fr.wikipedia.org/wiki/Trie_%28informatique%29) est anglais et se prononce *traïlle*. Il sera défini plus bas. Cette structure de données est très adaptée à la recherche d'un mot dans une liste ordonnée. C'est aussi une histoire de dictionnaires imbriqués."
   ]
  },
  {
   "cell_type": "markdown",
   "metadata": {},
   "source": [
    "from jyquickhelper import add_notebook_menu\n",
    "add_notebook_menu()"
   ]
  },
  {
   "cell_type": "markdown",
   "metadata": {},
   "source": [
    "Rechercher un mot dans une liste est un problème simple. Et pourtant, cette tâche peut être plus ou moins rapide selon la façon dont on représente cette liste, voire de la compresser. L'objectif est ici de découvrir trois façons de construire un ensemble de mots avec des dictionnaires et des listes. La recherche d'un mot dans cet ensemble sera différente à chaque fois.\n",
    "On veut mesurer le temps qu'il faut pour vérifier qu'un mot appartient à une liste de mots de trois façons différentes et à partir de trois représentations différentes :\n",
    "\n",
    "* liste de mots\n",
    "* liste triée de mots\n",
    "* trie\n",
    "\n",
    "A quoi ça sert : voir [Complétion](http://www.xavierdupre.fr/app/mlstatpy/helpsphinx/c_nlp/completion.html)."
   ]
  },
  {
   "cell_type": "markdown",
   "metadata": {},
   "source": [
    "## Construction d'une liste aléatoire\n",
    "\n",
    "Plutôt que de charger un texte en mémoire, on construit des mots aléatoirement. "
   ]
  },
  {
   "cell_type": "markdown",
   "metadata": {},
   "source": [
    "### Exercice 1\n",
    "\n",
    "A partir de la fonction suivante, construit une liste aléatoire de 10000 mots d'une longueur de 20 lettres."
   ]
  },
  {
   "cell_type": "code",
   "execution_count": 2,
   "metadata": {},
   "outputs": [
    {
     "name": "stdout",
     "output_type": "stream",
     "text": [
      "10000\n"
     ]
    }
   ],
   "source": [
    "import random\n",
    "def mot_alea (l) :\n",
    "    l = [ chr(97+random.randint(0,25)) for i in range(l) ]\n",
    "    return \"\".join(l)\n",
    "\n",
    "taille  = 20\n",
    "N       = 10000\n",
    "mots    = [ mot_alea(taille) for _ in range (N) ]\n",
    "print(len(mots))"
   ]
  },
  {
   "cell_type": "code",
   "execution_count": 7,
   "metadata": {},
   "outputs": [
    {
     "data": {
      "text/plain": [
       "['jonathan', 'wbtkdi']"
      ]
     },
     "execution_count": 7,
     "metadata": {},
     "output_type": "execute_result"
    }
   ],
   "source": [
    "mots.sort()\n",
    "mot = ['wbtkdi','jonathan']\n",
    "mot.sort()\n",
    "mot"
   ]
  },
  {
   "cell_type": "markdown",
   "metadata": {},
   "source": [
    "### Exercice 2\n",
    "\n",
    "Les listes ont une méthode ``index`` qui permet de retrouver la position d'un mot (elle effectue donc une recherche). Le module [time](https://docs.python.org/3/library/time.html) possède une fonction [clock](https://docs.python.org/3/library/time.html#time.perf_counter). Utiliser cette fonction pour mesurer le temps du code suivant (qu'on prendra soin d'exécuter plusieurs fois en boucle afin d'avoir une mesure fiable) :"
   ]
  },
  {
   "cell_type": "code",
   "execution_count": 2,
   "metadata": {},
   "outputs": [
    {
     "name": "stdout",
     "output_type": "stream",
     "text": [
      "recherche simple 2.1192968000000008\n"
     ]
    }
   ],
   "source": [
    "import time\n",
    "debut = time.perf_counter()\n",
    "for k in mots :\n",
    "    i = mots.index(k)\n",
    "fin = time.perf_counter()\n",
    "print (\"recherche simple\",fin - debut)"
   ]
  },
  {
   "cell_type": "markdown",
   "metadata": {},
   "source": [
    "IPython propose une commande magique pour mesure le temps d'exécution d'une instruction : [%timeit](http://ipython.org/ipython-doc/dev/interactive/tutorial.html#magic-functions) qui exécute cette instruction plusieurs fois avant de retourner un résultat."
   ]
  },
  {
   "cell_type": "markdown",
   "metadata": {},
   "source": [
    "## Recherche dichotomique\n",
    "\n",
    "Lors des premières séances de TD, on a implémenté la recherche dichotomique. La liste de mots est triée. Vous pouvez soit retrouver le code cette fonction depuis ce TD soit implémenter de nouveau la fonction. "
   ]
  },
  {
   "cell_type": "markdown",
   "metadata": {},
   "source": [
    "### Exercice 3\n",
    "\n",
    "L'objectif est de mesurer le temps pris par la recherche dichotomique appliquée à la même liste que celle de l'exercice 1 (mais triée)."
   ]
  },
  {
   "cell_type": "code",
   "execution_count": 3,
   "metadata": {},
   "outputs": [
    {
     "name": "stdout",
     "output_type": "stream",
     "text": [
      "dichotomie 0.058902400000008015\n"
     ]
    }
   ],
   "source": [
    "def dicho (mots, x) :\n",
    "    a = 0\n",
    "    b = len(mots)-1\n",
    "    while a < b :\n",
    "        m = (a+b)//2\n",
    "        t = mots[m]\n",
    "        if t < x :\n",
    "            b = m-1\n",
    "        elif t == x :\n",
    "            return m\n",
    "        else :\n",
    "            a = m+1\n",
    "    return a\n",
    "\n",
    "mots.sort()\n",
    "\n",
    "debut = time.perf_counter()\n",
    "for k in mots :\n",
    "    i = dicho(mots, k)\n",
    "fin = time.perf_counter()\n",
    "print (\"dichotomie\",fin - debut)"
   ]
  },
  {
   "cell_type": "markdown",
   "metadata": {},
   "source": [
    "### Exercice 4\n",
    "\n",
    "Mesurer le temps de calcul lorsque la recherche d'un mot est effectuée 1000 fois pour des tailles de liste de 10, 100, 1000, 10000, 100000 mots. On fait ceci pour la recherche simple et la recherche dichotomique. Vérifier que cela correspond au coût des deux algorithmes (qu'on précisera)."
   ]
  },
  {
   "cell_type": "code",
   "execution_count": 4,
   "metadata": {},
   "outputs": [
    {
     "name": "stdout",
     "output_type": "stream",
     "text": [
      "10 simple 0.0005984999999952834 dicho 0.0012964000000010856 ratio 0.0005984999999952834  ratio théorique  0.1003433318879937\n",
      "100 simple 0.002417900000011741 dicho 0.002231099999988828 ratio 0.002417900000011741  ratio théorique  0.5017166594399687\n",
      "1000 simple 0.022708800000003748 dicho 0.003827000000001135 ratio 0.022708800000003748  ratio théorique  3.3447777295997914\n",
      "10000 simple 0.23253580000000795 dicho 0.005554900000007024 ratio 0.23253580000000795  ratio théorique  25.085832971998425\n",
      "100000 simple 7.193864700000006 dicho 0.0065869000000020606 ratio 7.193864700000006  ratio théorique  200.68666377598748\n"
     ]
    }
   ],
   "source": [
    "import math\n",
    "\n",
    "for N in [10, 100, 1000, 10000, 100000] :\n",
    "    mots    = [ mot_alea(taille) for _ in range (N) ]\n",
    "    tolook  = [ mots[ random.randint(0,len(mots)-1) ] for i in range(0,1000) ]\n",
    "    mots.sort()\n",
    "\n",
    "    debut = time.perf_counter()\n",
    "    for k in tolook :\n",
    "        i = mots.index(k)\n",
    "    fin = time.perf_counter()\n",
    "    ds = fin-debut\n",
    "\n",
    "    debut = time.perf_counter()\n",
    "    for k in tolook :\n",
    "        i = dicho(mots, k)\n",
    "    fin = time.perf_counter()\n",
    "    dd = fin-debut\n",
    "\n",
    "    print(N, \"simple\",ds, \"dicho\",dd, \"ratio\", ds / max(dd, 1), \" ratio théorique \",\n",
    "          len(mots)/math.log(len(mots)) * math.log(2)/30)"
   ]
  },
  {
   "cell_type": "markdown",
   "metadata": {},
   "source": [
    "## Trie\n",
    "\n",
    "Le coût des deux recherches dépendent du nombre de mots dans la liste. Il est possible de construire une structure de données qui fait dépendre le coût de cette recherche du nombre de lettres différentes (26) et de la longueur maximale des mots.\n",
    "\n",
    "Le trie suivant représente les mots ``A, to, tea, ted, ten, inn``. Chaque noeud final est un mot."
   ]
  },
  {
   "cell_type": "code",
   "execution_count": 6,
   "metadata": {},
   "outputs": [
    {
     "data": {
      "image/png": "[encoded data removed]",
      "text/plain": [
       "<IPython.core.display.Image at 0x7344940>"
      ]
     },
     "execution_count": 7,
     "metadata": {},
     "output_type": "execute_result"
    }
   ],
   "source": [
    "from pyquickhelper.helpgen import NbImage\n",
    "NbImage('wiki_trie.png')"
   ]
  },
  {
   "cell_type": "markdown",
   "metadata": {},
   "source": [
    "Dans un vrai trie, on ne conserve que la dernière lettre dans chaque noeud, un mot de la liste est obtenu en parcourant un chemin qui va du noeud racine jusqu'à une feuille. Plus bas, un exemple pour **ted**."
   ]
  },
  {
   "cell_type": "code",
   "execution_count": 7,
   "metadata": {},
   "outputs": [
    {
     "data": {
      "image/png": "[encoded data removed]",
      "text/plain": [
       "<IPython.core.display.Image at 0x7344ac8>"
      ]
     },
     "execution_count": 8,
     "metadata": {},
     "output_type": "execute_result"
    }
   ],
   "source": [
    "NbImage('wiki_trie2.png')"
   ]
  },
  {
   "cell_type": "markdown",
   "metadata": {},
   "source": [
    "### Exercice 5\n",
    "\n",
    "Construire cette structure. Les classes sont une possibilité mais ne sont pas indispensables."
   ]
  },
  {
   "cell_type": "code",
   "execution_count": 5,
   "metadata": {},
   "outputs": [
    {
     "name": "stdout",
     "output_type": "stream",
     "text": [
      "{'a': {'a': {'a': {}, 'b': {}}, 'b': {'a': {}}}, 'b': {'a': {'a': {}, 'b': {}}, 'b': {'b': {}, 'a': {}}}}\n"
     ]
    }
   ],
   "source": [
    "def build_trie(mots) :\n",
    "    trie = { }\n",
    "    for m in mots :\n",
    "        r = trie\n",
    "        for c in m :\n",
    "            if c not in r : r[c] = { }\n",
    "            r = r[c]\n",
    "    return trie\n",
    "\n",
    "mots = [ \"aaa\", \"aba\", \"aab\", \"baa\", \"bbb\", \"bba\", \"bab\" ]\n",
    "\n",
    "trie = build_trie(mots)\n",
    "print(trie)"
   ]
  },
  {
   "cell_type": "code",
   "execution_count": 13,
   "metadata": {},
   "outputs": [
    {
     "data": {
      "text/plain": [
       "[2]"
      ]
     },
     "execution_count": 13,
     "metadata": {},
     "output_type": "execute_result"
    }
   ],
   "source": [
    "im_test = []\n",
    "temp = im_test\n",
    "temp += [2]\n",
    "im_test"
   ]
  },
  {
   "cell_type": "markdown",
   "metadata": {},
   "source": [
    "## Recherche dans un trie"
   ]
  },
  {
   "cell_type": "markdown",
   "metadata": {},
   "source": [
    "### Exercice 6\n",
    "\n",
    "Une fois qu'on a la structure, il faut aussi écrire la fonction qui recherche un mot dans le trie."
   ]
  },
  {
   "cell_type": "code",
   "execution_count": 6,
   "metadata": {},
   "outputs": [
    {
     "name": "stdout",
     "output_type": "stream",
     "text": [
      "aaa True\n",
      "aba True\n",
      "aab True\n",
      "baa True\n",
      "bbb True\n",
      "bba True\n",
      "bab True\n",
      "bcc False\n"
     ]
    }
   ],
   "source": [
    "def lookup(trie, m) :\n",
    "    r = trie\n",
    "    for c in m :\n",
    "        if c in r :\n",
    "            r = r[c]\n",
    "        else :\n",
    "            return False\n",
    "    return True\n",
    "\n",
    "for k in mots :\n",
    "    print(k, lookup(trie, k))\n",
    "print(\"bcc\", lookup(trie, \"bcc\"))"
   ]
  },
  {
   "cell_type": "code",
   "execution_count": 7,
   "metadata": {},
   "outputs": [
    {
     "name": "stdout",
     "output_type": "stream",
     "text": [
      "a\n",
      "  a\n",
      "    a\n",
      "    b\n",
      "  b\n",
      "    a\n",
      "b\n",
      "  a\n",
      "    a\n",
      "    b\n",
      "  b\n",
      "    a\n",
      "    b\n"
     ]
    }
   ],
   "source": [
    "def print_trie(trie, niveau = 0):\n",
    "    for k,v in sorted(trie.items()):\n",
    "        print(\"  \" * niveau + k)\n",
    "        if len(v) > 0 :\n",
    "            print_trie(v, niveau+1)\n",
    "print_trie(trie)"
   ]
  },
  {
   "cell_type": "markdown",
   "metadata": {},
   "source": [
    "### Exercice 7\n",
    "\n",
    "Il ne reste plus qu'à mesurer le temps."
   ]
  },
  {
   "cell_type": "code",
   "execution_count": 8,
   "metadata": {},
   "outputs": [
    {
     "name": "stdout",
     "output_type": "stream",
     "text": [
      "10 dicho 0.014648099999988062 trie 0.03519829999999047\n",
      "100 dicho 0.02697480000000496 trie 0.02805910000000722\n",
      "1000 dicho 0.038991199999998116 trie 0.03051519999996799\n",
      "10000 dicho 0.05749869999999646 trie 0.03584240000003547\n",
      "100000 dicho 0.06223760000000311 trie 0.04034849999999324\n",
      "200000 dicho 0.07074529999999868 trie 0.05320319999998446\n",
      "400000 dicho 0.0956616999999369 trie 0.17171890000008716\n"
     ]
    }
   ],
   "source": [
    "for N in [10, 100, 1000, 10000, 100000, 200000, 400000] :\n",
    "    mots    = [ mot_alea(taille) for _ in range (N) ]\n",
    "    tolook  = [ mots[ random.randint(0,len(mots)-1) ] for i in range(0,10000) ]\n",
    "    trie    = build_trie(mots)\n",
    "    mots.sort()\n",
    "\n",
    "    debut = time.perf_counter()\n",
    "    for k in tolook :\n",
    "        i = dicho(mots, k)\n",
    "    fin = time.perf_counter()\n",
    "    dd = fin-debut\n",
    "\n",
    "    debut = time.perf_counter()\n",
    "    for k in tolook :\n",
    "        i = lookup(trie, k)\n",
    "    fin = time.perf_counter()\n",
    "    dt = fin - debut\n",
    "\n",
    "    print(N, \"dicho\",dd, \"trie\", dt)"
   ]
  },
  {
   "cell_type": "code",
   "execution_count": 13,
   "metadata": {},
   "outputs": [],
   "source": [
    "mot = \"jonathan\"\n",
    "sortedmot =(mot.split()).sort()"
   ]
  },
  {
   "cell_type": "code",
   "execution_count": null,
   "metadata": {},
   "outputs": [],
   "source": []
  }
 ],
 "metadata": {
  "kernelspec": {
   "display_name": "Python 3",
   "language": "python",
   "name": "python3"
  },
  "language_info": {
   "codemirror_mode": {
    "name": "ipython",
    "version": 3
   },
   "file_extension": ".py",
   "mimetype": "text/x-python",
   "name": "python",
   "nbconvert_exporter": "python",
   "pygments_lexer": "ipython3",
   "version": "3.7.4"
  }
 },
 "nbformat": 4,
 "nbformat_minor": 2
}
