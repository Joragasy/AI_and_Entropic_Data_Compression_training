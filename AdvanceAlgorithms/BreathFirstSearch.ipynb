{
 "cells": [
  {
   "cell_type": "code",
   "execution_count": 92,
   "metadata": {},
   "outputs": [],
   "source": [
    "# sample graph implemented as a dictionary\n",
    "graph = {'A': ['B', 'C', 'E'],\n",
    "         'B': ['A','D', 'E'],\n",
    "         'C': ['A', 'F', 'G'],\n",
    "         'D': ['B'],\n",
    "         'E': ['A', 'B','D'],\n",
    "         'F': ['C'],\n",
    "         'G': ['C']}"
   ]
  },
  {
   "cell_type": "code",
   "execution_count": 95,
   "metadata": {},
   "outputs": [],
   "source": [
    "# visits all the nodes of a graph (connected component) using BFS\n",
    "def bfs_connected_component(graph, start):\n",
    "    # keep track of all visited nodes\n",
    "    explored = []\n",
    "    # keep track of nodes to be checked\n",
    "    queue = [start]\n",
    "    # keep looping until there are nodes still to be checked\n",
    "    while queue :\n",
    "        # pop shallowest node (first node) from queue\n",
    "        node = queue.pop(0)\n",
    "        if node not in explored :\n",
    "            # add node to list of checked nodes\n",
    "            explored.append(node)\n",
    "            neighbours = graph[node]\n",
    "            # add neighbours of node to queue\n",
    "            for neighbour in neighbours :\n",
    "                queue.append(neighbour)\n",
    "    return explored"
   ]
  },
  {
   "cell_type": "code",
   "execution_count": 98,
   "metadata": {},
   "outputs": [],
   "source": [
    "bfs_result = bfs_connected_component(graph,'A')"
   ]
  },
  {
   "cell_type": "code",
   "execution_count": 99,
   "metadata": {},
   "outputs": [
    {
     "data": {
      "text/plain": [
       "['A', 'B', 'C', 'E', 'D', 'F', 'G']"
      ]
     },
     "execution_count": 99,
     "metadata": {},
     "output_type": "execute_result"
    }
   ],
   "source": [
    "bfs_result"
   ]
  },
  {
   "cell_type": "code",
   "execution_count": 148,
   "metadata": {},
   "outputs": [],
   "source": [
    "def intersection(lst1, lst2): \n",
    "    return list(set(lst1) & set(lst2))"
   ]
  },
  {
   "cell_type": "code",
   "execution_count": 263,
   "metadata": {},
   "outputs": [],
   "source": [
    "# compute node in each level by using BFS\n",
    "def bfs_compute_graph_level_size(graph, start):\n",
    "    def get_child(graph,parent):\n",
    "        childs = []\n",
    "        for p in parent :\n",
    "            childs = childs + graph[p]\n",
    "        return childs\n",
    "    # keep track of all visited nodes\n",
    "    explored = []\n",
    "    # keep track of nodes to be checked\n",
    "    queue = [start]\n",
    "    l = 1\n",
    "    level_content = {}\n",
    "    for i in range(0,len(graph)):\n",
    "        level_content[i] = []\n",
    "    level_content[0] = [start]\n",
    "    #level_content[1] = graph[start]\n",
    "    # keep looping until there are nodes still to be checked\n",
    "    while queue :\n",
    "        # pop shallowest node (first node) from queue\n",
    "        node = queue.pop(0)\n",
    "        if node not in explored :\n",
    "            # add node to list of checked nodes\n",
    "            explored.append(node)\n",
    "            neighbours = graph[node]\n",
    "            # add neighbours of node to queue\n",
    "            for neighbour in neighbours :\n",
    "                queue.append(neighbour)\n",
    "            # get node in each level\n",
    "            if node in get_child(graph,level_content[l-1]):\n",
    "                level_content[l].append(node)\n",
    "            else :\n",
    "                if node != start :\n",
    "                    l+=1\n",
    "                    level_content[l].append(node)\n",
    "    # transform level content into level size\n",
    "    level_size = {}\n",
    "    for l in ls :\n",
    "        if len(ls[l]) :\n",
    "            level_size[l] = len(ls[l])\n",
    "    return explored , level_content , level_size"
   ]
  },
  {
   "cell_type": "code",
   "execution_count": 264,
   "metadata": {},
   "outputs": [],
   "source": [
    "ex , lc , ls = bfs_compute_graph_level_size(graph,'D')"
   ]
  },
  {
   "cell_type": "code",
   "execution_count": 265,
   "metadata": {},
   "outputs": [
    {
     "data": {
      "text/plain": [
       "{0: 1, 1: 1, 2: 2, 3: 1, 4: 2}"
      ]
     },
     "execution_count": 265,
     "metadata": {},
     "output_type": "execute_result"
    }
   ],
   "source": [
    "ls"
   ]
  },
  {
   "cell_type": "code",
   "execution_count": 300,
   "metadata": {},
   "outputs": [],
   "source": [
    "# finds shortest path between 2 nodes of a graph using BFS\n",
    "def bfs_shortest_path(graph, start, goal):\n",
    "    # keep track of explored nodes\n",
    "    explored = []\n",
    "    # keep track of all the paths to be checked\n",
    "    queue = [[start]]\n",
    " \n",
    "    # return path if start is goal\n",
    "    if start == goal:\n",
    "        return \"That was easy! Start = goal\"\n",
    " \n",
    "    # keeps looping until all possible paths have been checked\n",
    "    while queue:\n",
    "        # pop the first path from the queue\n",
    "        path = queue.pop(0)\n",
    "        print('path ',path)\n",
    "        # get the last node from the path\n",
    "        node = path[-1]\n",
    "        if node not in explored:\n",
    "            print('node ',node)\n",
    "            neighbours = graph[node]\n",
    "            print('neighbours ',neighbours)\n",
    "            # go through all neighbour nodes, construct a new path and\n",
    "            # push it into the queue\n",
    "            print('path ',path)\n",
    "            for neighbour in neighbours:\n",
    "                new_path = list(path)\n",
    "                new_path.append(neighbour)\n",
    "                queue.append(new_path)\n",
    "                print('new_path ',new_path)\n",
    "                print('queue ',queue)\n",
    "                # return path if neighbour is goal\n",
    "                if neighbour == goal:\n",
    "                    return new_path\n",
    " \n",
    "            # mark node as explored\n",
    "            explored.append(node)\n",
    " \n",
    "    # in case there's no path between the 2 nodes\n",
    "    return \"So sorry, but a connecting path doesn't ex\""
   ]
  },
  {
   "cell_type": "code",
   "execution_count": 301,
   "metadata": {},
   "outputs": [
    {
     "name": "stdout",
     "output_type": "stream",
     "text": [
      "path  ['A']\n",
      "node  A\n",
      "neighbours  ['B', 'C', 'E']\n",
      "path  ['A']\n",
      "new_path  ['A', 'B']\n",
      "queue  [['A', 'B']]\n",
      "new_path  ['A', 'C']\n",
      "queue  [['A', 'B'], ['A', 'C']]\n",
      "new_path  ['A', 'E']\n",
      "queue  [['A', 'B'], ['A', 'C'], ['A', 'E']]\n",
      "path  ['A', 'B']\n",
      "node  B\n",
      "neighbours  ['A', 'D', 'E']\n",
      "path  ['A', 'B']\n",
      "new_path  ['A', 'B', 'A']\n",
      "queue  [['A', 'C'], ['A', 'E'], ['A', 'B', 'A']]\n",
      "new_path  ['A', 'B', 'D']\n",
      "queue  [['A', 'C'], ['A', 'E'], ['A', 'B', 'A'], ['A', 'B', 'D']]\n"
     ]
    },
    {
     "data": {
      "text/plain": [
       "['A', 'B', 'D']"
      ]
     },
     "execution_count": 301,
     "metadata": {},
     "output_type": "execute_result"
    }
   ],
   "source": [
    "bfs_shortest_path(graph,'A','D')"
   ]
  }
 ],
 "metadata": {
  "kernelspec": {
   "display_name": "Python 3",
   "language": "python",
   "name": "python3"
  },
  "language_info": {
   "codemirror_mode": {
    "name": "ipython",
    "version": 3
   },
   "file_extension": ".py",
   "mimetype": "text/x-python",
   "name": "python",
   "nbconvert_exporter": "python",
   "pygments_lexer": "ipython3",
   "version": "3.7.4"
  }
 },
 "nbformat": 4,
 "nbformat_minor": 2
}
