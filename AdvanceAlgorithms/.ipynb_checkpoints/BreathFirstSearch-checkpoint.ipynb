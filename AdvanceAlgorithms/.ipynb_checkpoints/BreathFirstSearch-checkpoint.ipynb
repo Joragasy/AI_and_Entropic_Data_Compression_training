{
 "cells": [
  {
   "cell_type": "code",
   "execution_count": 92,
   "metadata": {},
   "outputs": [],
   "source": [
    "# sample graph implemented as a dictionary\n",
    "graph = {'A': ['B', 'C', 'E'],\n",
    "         'B': ['A','D', 'E'],\n",
    "         'C': ['A', 'F', 'G'],\n",
    "         'D': ['B'],\n",
    "         'E': ['A', 'B','D'],\n",
    "         'F': ['C'],\n",
    "         'G': ['C']}"
   ]
  },
  {
   "cell_type": "code",
   "execution_count": 95,
   "metadata": {},
   "outputs": [],
   "source": [
    "# visits all the nodes of a graph (connected component) using BFS\n",
    "def bfs_connected_component(graph, start):\n",
    "    # keep track of all visited nodes\n",
    "    explored = []\n",
    "    # keep track of nodes to be checked\n",
    "    queue = [start]\n",
    "    # keep looping until there are nodes still to be checked\n",
    "    while queue :\n",
    "        # pop shallowest node (first node) from queue\n",
    "        node = queue.pop(0)\n",
    "        if node not in explored :\n",
    "            # add node to list of checked nodes\n",
    "            explored.append(node)\n",
    "            neighbours = graph[node]\n",
    "            # add neighbours of node to queue\n",
    "            for neighbour in neighbours :\n",
    "                queue.append(neighbour)\n",
    "    return explored"
   ]
  },
  {
   "cell_type": "code",
   "execution_count": 98,
   "metadata": {},
   "outputs": [],
   "source": [
    "bfs_result = bfs_connected_component(graph,'A')"
   ]
  },
  {
   "cell_type": "code",
   "execution_count": 99,
   "metadata": {},
   "outputs": [
    {
     "data": {
      "text/plain": [
       "['A', 'B', 'C', 'E', 'D', 'F', 'G']"
      ]
     },
     "execution_count": 99,
     "metadata": {},
     "output_type": "execute_result"
    }
   ],
   "source": [
    "bfs_result"
   ]
  },
  {
   "cell_type": "code",
   "execution_count": 148,
   "metadata": {},
   "outputs": [],
   "source": [
    "def intersection(lst1, lst2): \n",
    "    return list(set(lst1) & set(lst2))"
   ]
  },
  {
   "cell_type": "code",
   "execution_count": 152,
   "metadata": {},
   "outputs": [],
   "source": [
    "def get_child(graph,parent):\n",
    "    childs = []\n",
    "    for p in parent :\n",
    "        childs = childs + graph[p]\n",
    "    return childs"
   ]
  },
  {
   "cell_type": "code",
   "execution_count": 158,
   "metadata": {},
   "outputs": [
    {
     "data": {
      "text/plain": [
       "['C']"
      ]
     },
     "execution_count": 158,
     "metadata": {},
     "output_type": "execute_result"
    }
   ],
   "source": [
    "get_child(graph,['G'])"
   ]
  },
  {
   "cell_type": "code",
   "execution_count": 188,
   "metadata": {},
   "outputs": [
    {
     "data": {
      "text/plain": [
       "['A', 'D', 'E', 'A', 'F', 'G', 'A', 'B', 'D']"
      ]
     },
     "execution_count": 188,
     "metadata": {},
     "output_type": "execute_result"
    }
   ],
   "source": [
    "l = 1\n",
    "level = []\n",
    "level_content = {}\n",
    "level_content[0] = 'A'\n",
    "\n",
    "get_child(graph,['B', 'C', 'E'])"
   ]
  },
  {
   "cell_type": "code",
   "execution_count": 263,
   "metadata": {},
   "outputs": [],
   "source": [
    "# compute node in each level by using BFS\n",
    "def bfs_compute_graph_level_size(graph, start):\n",
    "    def get_child(graph,parent):\n",
    "        childs = []\n",
    "        for p in parent :\n",
    "            childs = childs + graph[p]\n",
    "        return childs\n",
    "    # keep track of all visited nodes\n",
    "    explored = []\n",
    "    # keep track of nodes to be checked\n",
    "    queue = [start]\n",
    "    l = 1\n",
    "    level_content = {}\n",
    "    for i in range(0,len(graph)):\n",
    "        level_content[i] = []\n",
    "    level_content[0] = [start]\n",
    "    #level_content[1] = graph[start]\n",
    "    # keep looping until there are nodes still to be checked\n",
    "    while queue :\n",
    "        # pop shallowest node (first node) from queue\n",
    "        node = queue.pop(0)\n",
    "        if node not in explored :\n",
    "            # add node to list of checked nodes\n",
    "            explored.append(node)\n",
    "            neighbours = graph[node]\n",
    "            # add neighbours of node to queue\n",
    "            for neighbour in neighbours :\n",
    "                queue.append(neighbour)\n",
    "            # get node in each level\n",
    "            if node in get_child(graph,level_content[l-1]):\n",
    "                level_content[l].append(node)\n",
    "            else :\n",
    "                if node != start :\n",
    "                    l+=1\n",
    "                    level_content[l].append(node)\n",
    "    # transform level content into level size\n",
    "    level_size = {}\n",
    "    for l in ls :\n",
    "        if len(ls[l]) :\n",
    "            level_size[l] = len(ls[l])\n",
    "    return explored , level_content , level_size"
   ]
  },
  {
   "cell_type": "code",
   "execution_count": 264,
   "metadata": {},
   "outputs": [],
   "source": [
    "ex , lc , ls = bfs_compute_graph_level_size(graph,'D')"
   ]
  },
  {
   "cell_type": "code",
   "execution_count": 265,
   "metadata": {},
   "outputs": [
    {
     "data": {
      "text/plain": [
       "{0: 1, 1: 1, 2: 2, 3: 1, 4: 2}"
      ]
     },
     "execution_count": 265,
     "metadata": {},
     "output_type": "execute_result"
    }
   ],
   "source": [
    "ls"
   ]
  },
  {
   "cell_type": "code",
   "execution_count": null,
   "metadata": {},
   "outputs": [],
   "source": []
  }
 ],
 "metadata": {
  "kernelspec": {
   "display_name": "Python 3",
   "language": "python",
   "name": "python3"
  },
  "language_info": {
   "codemirror_mode": {
    "name": "ipython",
    "version": 3
   },
   "file_extension": ".py",
   "mimetype": "text/x-python",
   "name": "python",
   "nbconvert_exporter": "python",
   "pygments_lexer": "ipython3",
   "version": "3.7.4"
  }
 },
 "nbformat": 4,
 "nbformat_minor": 2
}
